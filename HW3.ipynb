{
 "cells": [
  {
   "cell_type": "code",
   "execution_count": 1,
   "metadata": {},
   "outputs": [],
   "source": [
    "import pandas as pd\n",
    "import numpy as np\n",
    "import matplotlib.pyplot as plt\n",
    "from matplotlib import gridspec\n",
    "\n",
    "%matplotlib inline\n",
    "plt.rcParams['figure.figsize'] = (8.0, 6.0) # set default size of plots\n",
    "plt.rcParams['image.interpolation'] = 'nearest'\n",
    "plt.rcParams['image.cmap'] = 'gray'\n",
    "\n",
    "%load_ext autoreload\n",
    "%autoreload 2"
   ]
  },
  {
   "cell_type": "markdown",
   "metadata": {},
   "source": [
    "# Exercise 1"
   ]
  },
  {
   "cell_type": "markdown",
   "metadata": {},
   "source": [
    "I choose two classes of George W Bush and Tony Blair, their target value are 3 and 6 respectively. And I recode G.W.B as 1 and T.B. as -1."
   ]
  },
  {
   "cell_type": "code",
   "execution_count": null,
   "metadata": {},
   "outputs": [],
   "source": [
    "from sklearn.datasets import fetch_lfw_people\n",
    "from sklearn.model_selection import train_test_split\n",
    "\n",
    "\n",
    "lfw = fetch_lfw_people(min_faces_per_person=70)\n",
    "mask = np.isin(lfw.target, [3, 6])\n",
    "X= lfw.images[mask]\n",
    "y= lfw.target[mask]\n",
    "y[y==3] = 1\n",
    "y[y==6] = -1\n",
    "\n",
    "X_train, X_test, y_train, y_test = train_test_split(\n",
    "    X, y, test_size=0.2, random_state=1209)"
   ]
  },
  {
   "cell_type": "markdown",
   "metadata": {},
   "source": [
    "### Question 1\n",
    "\n",
    "k_gaussian is to compute the kernel function between two images and for the a bag of patches, I will choose to pad the image from the bottom and right side using zero to make the width and height divided by p ."
   ]
  },
  {
   "cell_type": "code",
   "execution_count": 5,
   "metadata": {},
   "outputs": [
    {
     "data": {
      "text/plain": [
       "326.48260857224432"
      ]
     },
     "execution_count": 5,
     "metadata": {},
     "output_type": "execute_result"
    }
   ],
   "source": [
    "#k is to compute the kernel function between two images\n",
    "\n",
    "HEIGHT = 62\n",
    "WIDTH  = 47\n",
    "def k_gaussian(image1,image2, p = 3, sigma= 1):\n",
    "    H_pad = p - HEIGHT % p\n",
    "    W_pad = p - WIDTH % p\n",
    "    image1_padded = np.pad(image1,((0,H_pad),(0, W_pad)),mode='constant')\n",
    "    image2_padded = np.pad(image2,((0,H_pad),(0, W_pad)),mode='constant')\n",
    "    H_af, W_af = image1_padded.shape\n",
    "    result = np.zeros((int(H_af/p), int(W_af/p)))\n",
    "    for h in range(int(H_af/p)):\n",
    "        for w in range(int(W_af/p)):\n",
    "            norm1 = np.sqrt(np.sum((image1_padded[p*h:p*(h+1), p*w:p*(w+1)])**2))\n",
    "            norm2 = np.sqrt(np.sum((image2_padded[p*h:p*(h+1), p*w:p*(w+1)])**2))\n",
    "            dist = np.sum((image1_padded[p*h:p*(h+1), p*w:p*(w+1)]/norm1 - \n",
    "                image2_padded[p*h:p*(h+1), p*w:p*(w+1)]/norm2)**2)\n",
    "            result[h,w] = np.exp(- dist/sigma)\n",
    "#     print(result.shape)\n",
    "    return np.sum(result)\n",
    "\n",
    "#try to compute between the first and second in train_data\n",
    "k_gaussian(X_train[0],X_train[1])"
   ]
  },
  {
   "cell_type": "markdown",
   "metadata": {},
   "source": [
    "### Question 2\n",
    "\n",
    "The function will be the nearesting mean classifier using this kernel function."
   ]
  },
  {
   "cell_type": "code",
   "execution_count": 10,
   "metadata": {},
   "outputs": [
    {
     "name": "stdout",
     "output_type": "stream",
     "text": [
      "Finish one round!\n",
      "Finish one round!\n",
      "Finish one round!\n",
      "Finish one round!\n",
      "Finish one round!\n",
      "Finish one round!\n"
     ]
    }
   ],
   "source": [
    "def nearest_mean(X_train, X_test, y_train, y_test,sigma):\n",
    "    n_train, n_test = len(X_train),len(X_test)\n",
    "    result = np.zeros((n_train, n_test))\n",
    "    for i in range(n_train):\n",
    "        for j in range(n_test):\n",
    "            result[i,j]= k_gaussian(X_train[i], X_test[j], sigma=sigma)\n",
    "    mask1 = (y_train == 1).astype(np.int)\n",
    "    mask2 = (y_train == -1).astype(np.int)\n",
    "    value_1 = np.dot(result.T, mask1[:, np.newaxis])/np.sum(mask1)\n",
    "    value_2 = np.dot(result.T, mask2[:, np.newaxis])/np.sum(mask2)\n",
    "    \n",
    "    value = np.concatenate((value_1,value_2),axis=1)\n",
    "    prediction = np.where(np.argmax(value, axis=1),1,-1)\n",
    "    error_rate =np.mean(prediction == y_test)\n",
    "    return error_rate, value\n",
    "\n",
    "\n",
    "guassian_result = []\n",
    "dist_result = []\n",
    "parameter_list1 = [0.001,0.01,0.1,1,10,100]\n",
    "for sigma in parameter_list1:\n",
    "    error_rate, value = nearest_mean(X_train, X_test, y_train, y_test,sigma=sigma)\n",
    "    guassian_result.append(error_rate)\n",
    "    dist_result.append(value)\n",
    "    print('Finish one round!')"
   ]
  },
  {
   "cell_type": "code",
   "execution_count": 36,
   "metadata": {},
   "outputs": [
    {
     "data": {
      "image/png": "[encoded data removed]",
      "text/plain": [
       "<matplotlib.figure.Figure at 0x7f280e814400>"
      ]
     },
     "metadata": {},
     "output_type": "display_data"
    }
   ],
   "source": [
    "fig1 = plt.subplot()\n",
    "fig1.spines['right'].set_visible(False)\n",
    "fig1.spines['top'].set_visible(False)\n",
    "fig1.plot(parameter_list1,guassian_result,color='red')\n",
    "fig1.set(title= 'Error rate for gaussian kernel',ylabel='Error(%)',xlabel='sigma',ylim=(0,0.8))\n",
    "fig1.set_xscale('log')"
   ]
  },
  {
   "cell_type": "markdown",
   "metadata": {},
   "source": [
    "We can see from the result the optimal sigma value is around 0.01."
   ]
  },
  {
   "cell_type": "markdown",
   "metadata": {},
   "source": [
    "### Question 3\n",
    "\n",
    "I choose to see how the order of index of George W Bush in the test set changes with the value of sigma."
   ]
  },
  {
   "cell_type": "code",
   "execution_count": 53,
   "metadata": {},
   "outputs": [
    {
     "data": {
      "text/html": [
       "<div>\n",
       "<style scoped>\n",
       "    .dataframe tbody tr th:only-of-type {\n",
       "        vertical-align: middle;\n",
       "    }\n",
       "\n",
       "    .dataframe tbody tr th {\n",
       "        vertical-align: top;\n",
       "    }\n",
       "\n",
       "    .dataframe thead th {\n",
       "        text-align: right;\n",
       "    }\n",
       "</style>\n",
       "<table border=\"1\" class=\"dataframe\">\n",
       "  <thead>\n",
       "    <tr style=\"text-align: right;\">\n",
       "      <th></th>\n",
       "      <th>sigma:{0.001000}</th>\n",
       "      <th>sigma:{0.010000}</th>\n",
       "      <th>sigma:{0.100000}</th>\n",
       "      <th>sigma:{1.000000}</th>\n",
       "      <th>sigma:{10.000000}</th>\n",
       "      <th>sigma:{100.000000}</th>\n",
       "    </tr>\n",
       "  </thead>\n",
       "  <tbody>\n",
       "    <tr>\n",
       "      <th>95</th>\n",
       "      <td>126</td>\n",
       "      <td>126</td>\n",
       "      <td>126</td>\n",
       "      <td>126</td>\n",
       "      <td>126</td>\n",
       "      <td>126</td>\n",
       "    </tr>\n",
       "    <tr>\n",
       "      <th>25</th>\n",
       "      <td>39</td>\n",
       "      <td>39</td>\n",
       "      <td>39</td>\n",
       "      <td>39</td>\n",
       "      <td>39</td>\n",
       "      <td>39</td>\n",
       "    </tr>\n",
       "    <tr>\n",
       "      <th>24</th>\n",
       "      <td>38</td>\n",
       "      <td>38</td>\n",
       "      <td>38</td>\n",
       "      <td>38</td>\n",
       "      <td>38</td>\n",
       "      <td>38</td>\n",
       "    </tr>\n",
       "    <tr>\n",
       "      <th>34</th>\n",
       "      <td>51</td>\n",
       "      <td>51</td>\n",
       "      <td>51</td>\n",
       "      <td>51</td>\n",
       "      <td>51</td>\n",
       "      <td>51</td>\n",
       "    </tr>\n",
       "    <tr>\n",
       "      <th>37</th>\n",
       "      <td>55</td>\n",
       "      <td>55</td>\n",
       "      <td>55</td>\n",
       "      <td>55</td>\n",
       "      <td>55</td>\n",
       "      <td>55</td>\n",
       "    </tr>\n",
       "    <tr>\n",
       "      <th>21</th>\n",
       "      <td>34</td>\n",
       "      <td>34</td>\n",
       "      <td>34</td>\n",
       "      <td>34</td>\n",
       "      <td>34</td>\n",
       "      <td>34</td>\n",
       "    </tr>\n",
       "    <tr>\n",
       "      <th>38</th>\n",
       "      <td>56</td>\n",
       "      <td>56</td>\n",
       "      <td>56</td>\n",
       "      <td>56</td>\n",
       "      <td>56</td>\n",
       "      <td>56</td>\n",
       "    </tr>\n",
       "    <tr>\n",
       "      <th>77</th>\n",
       "      <td>106</td>\n",
       "      <td>106</td>\n",
       "      <td>106</td>\n",
       "      <td>106</td>\n",
       "      <td>106</td>\n",
       "      <td>106</td>\n",
       "    </tr>\n",
       "    <tr>\n",
       "      <th>46</th>\n",
       "      <td>65</td>\n",
       "      <td>65</td>\n",
       "      <td>65</td>\n",
       "      <td>65</td>\n",
       "      <td>65</td>\n",
       "      <td>65</td>\n",
       "    </tr>\n",
       "    <tr>\n",
       "      <th>91</th>\n",
       "      <td>122</td>\n",
       "      <td>122</td>\n",
       "      <td>122</td>\n",
       "      <td>122</td>\n",
       "      <td>122</td>\n",
       "      <td>122</td>\n",
       "    </tr>\n",
       "  </tbody>\n",
       "</table>\n",
       "</div>"
      ],
      "text/plain": [
       "    sigma:{0.001000}  sigma:{0.010000}  sigma:{0.100000}  sigma:{1.000000}  \\\n",
       "95               126               126               126               126   \n",
       "25                39                39                39                39   \n",
       "24                38                38                38                38   \n",
       "34                51                51                51                51   \n",
       "37                55                55                55                55   \n",
       "21                34                34                34                34   \n",
       "38                56                56                56                56   \n",
       "77               106               106               106               106   \n",
       "46                65                65                65                65   \n",
       "91               122               122               122               122   \n",
       "\n",
       "    sigma:{10.000000}  sigma:{100.000000}  \n",
       "95                126                 126  \n",
       "25                 39                  39  \n",
       "24                 38                  38  \n",
       "34                 51                  51  \n",
       "37                 55                  55  \n",
       "21                 34                  34  \n",
       "38                 56                  56  \n",
       "77                106                 106  \n",
       "46                 65                  65  \n",
       "91                122                 122  "
      ]
     },
     "execution_count": 53,
     "metadata": {},
     "output_type": "execute_result"
    }
   ],
   "source": [
    "index= np.array(range(len(y_test)))\n",
    "target = np.concatenate((index[:, np.newaxis], y_test[:, np.newaxis]), axis=1)\n",
    "mask1 = y_test == 1\n",
    "\n",
    "final = pd.DataFrame()\n",
    "for i in range(len(guassian_result)):    \n",
    "#     temp = np.concatenate((dist_result[i][:,0][mask1], ),axis )\n",
    "    temp = pd.DataFrame({'value':dist_result[i][:,0][mask1], 'Index':index[mask1]})\n",
    "    msg = \"sigma:{%f}\"%parameter_list1[i]\n",
    "    final[msg] = temp.sort_values(['value'],ascending=False).Index\n",
    "final.head(10)"
   ]
  },
  {
   "cell_type": "markdown",
   "metadata": {},
   "source": [
    "I will display the first 10 to save some space here. Actually the ranking is exactly the same, which makes sense here because the sigma only change the value of distance in the feature space, but the way we measure them is the same in essence. So the rank won't change at all"
   ]
  },
  {
   "cell_type": "markdown",
   "metadata": {},
   "source": [
    "# Exercise 2"
   ]
  },
  {
   "cell_type": "code",
   "execution_count": 49,
   "metadata": {},
   "outputs": [
    {
     "data": {
      "text/plain": [
       "array([[ 1,  9],\n",
       "       [ 4, 16]])"
      ]
     },
     "execution_count": 49,
     "metadata": {},
     "output_type": "execute_result"
    }
   ],
   "source": [
    "# mask = np.isin(lfw.target_names, ['George W Bush', 'Tony Blair'])\n",
    "# mask\n",
    "# np.unique(lfw.target)\n",
    "# np.unique(lfw.target_names)\n",
    "# len(mask)\n",
    "# X.shape\n",
    "# for i in range(int(48/3)):\n",
    "#     print(i)\n",
    "\n",
    "(np.array([[1,3],[2,4]]))**2"
   ]
  }
 ],
 "metadata": {
  "kernelspec": {
   "display_name": "Python 3",
   "language": "python",
   "name": "python3"
  },
  "language_info": {
   "codemirror_mode": {
    "name": "ipython",
    "version": 3
   },
   "file_extension": ".py",
   "mimetype": "text/x-python",
   "name": "python",
   "nbconvert_exporter": "python",
   "pygments_lexer": "ipython3",
   "version": "3.5.2"
  },
  "widgets": {
   "state": {},
   "version": "1.1.2"
  }
 },
 "nbformat": 4,
 "nbformat_minor": 1
}
