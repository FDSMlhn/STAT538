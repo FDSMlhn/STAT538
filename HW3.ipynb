{
 "cells": [
  {
   "cell_type": "code",
   "execution_count": 8,
   "metadata": {
    "collapsed": true
   },
   "outputs": [],
   "source": [
    "import pandas as pd\n",
    "import numpy as np\n",
    "import matplotlib.pyplot as plt\n",
    "from matplotlib import gridspec\n",
    "\n",
    "%matplotlib inline\n",
    "plt.rcParams['figure.figsize'] = (8.0, 6.0) # set default size of plots\n",
    "plt.rcParams['image.interpolation'] = 'nearest'\n",
    "plt.rcParams['image.cmap'] = 'gray'\n",
    "\n",
    "%load_ext autoreload\n",
    "%autoreload 2"
   ]
  },
  {
   "cell_type": "markdown",
   "metadata": {},
   "source": [
    "# Exercise 1"
   ]
  },
  {
   "cell_type": "markdown",
   "metadata": {},
   "source": [
    "I choose two classes of George W Bush and Tony Blair, their target value are 3 and 6 respectively. And I recode G.W.B as 1 and T.B. as -1."
   ]
  },
  {
   "cell_type": "code",
   "execution_count": 57,
   "metadata": {
    "collapsed": false
   },
   "outputs": [],
   "source": [
    "from sklearn.datasets import fetch_lfw_people\n",
    "from sklearn.model_selection import train_test_split\n",
    "\n",
    "\n",
    "lfw = fetch_lfw_people(min_faces_per_person=70)\n",
    "mask = np.isin(lfw.target, [3, 6])\n",
    "X= lfw.images[mask]\n",
    "y= lfw.target[mask]\n",
    "y[y==3] = 1\n",
    "y[y==6] = -1\n",
    "\n",
    "X_train, X_test, y_train, y_test = train_test_split(\n",
    "    X, y, test_size=0.2, random_state=1209)"
   ]
  },
  {
   "cell_type": "markdown",
   "metadata": {},
   "source": [
    "### Question 1\n",
    "\n",
    "k_gaussian is to compute the kernel function between two images and for the a bag of patches, I will choose to pad the image from the bottom and right side using zero to make the width and height divided by p ."
   ]
  },
  {
   "cell_type": "code",
   "execution_count": 58,
   "metadata": {
    "collapsed": false
   },
   "outputs": [
    {
     "data": {
      "text/plain": [
       "326.4788327915507"
      ]
     },
     "execution_count": 58,
     "metadata": {},
     "output_type": "execute_result"
    }
   ],
   "source": [
    "#k is to compute the kernel function between two images\n",
    "\n",
    "HEIGHT = 62\n",
    "WIDTH  = 47\n",
    "def k_gaussian(image1,image2, p = 3, sigma= 1):\n",
    "    H_pad = p - HEIGHT % p\n",
    "    W_pad = p - WIDTH % p\n",
    "    image1_padded = np.pad(image1,((0,H_pad),(0, W_pad)),mode='constant')\n",
    "    image2_padded = np.pad(image2,((0,H_pad),(0, W_pad)),mode='constant')\n",
    "    H_af, W_af = image1_padded.shape\n",
    "    result = np.zeros((int(H_af/p), int(W_af/p)))\n",
    "    for h in range(int(H_af/p)):\n",
    "        for w in range(int(W_af/p)):\n",
    "            norm1 = np.sqrt(np.sum((image1_padded[p*h:p*(h+1), p*w:p*(w+1)])**2))\n",
    "            norm2 = np.sqrt(np.sum((image2_padded[p*h:p*(h+1), p*w:p*(w+1)])**2))\n",
    "            dist = np.sum((image1_padded[p*h:p*(h+1), p*w:p*(w+1)]/norm1 - \n",
    "                image2_padded[p*h:p*(h+1), p*w:p*(w+1)]/norm2)**2)\n",
    "            result[h,w] = np.exp(- dist/sigma)\n",
    "#     print(result.shape)\n",
    "    return np.sum(result)\n",
    "\n",
    "#try to compute between the first and second in train_data\n",
    "k_gaussian(X_train[0],X_train[1])"
   ]
  },
  {
   "cell_type": "markdown",
   "metadata": {},
   "source": [
    "### Question 2\n",
    "\n",
    "The function will be the nearesting mean classifier using this kernel function."
   ]
  },
  {
   "cell_type": "code",
   "execution_count": 59,
   "metadata": {
    "collapsed": false
   },
   "outputs": [
    {
     "ename": "KeyboardInterrupt",
     "evalue": "",
     "output_type": "error",
     "traceback": [
      "\u001b[0;31m---------------------------------------------------------------------------\u001b[0m",
      "\u001b[0;31mKeyboardInterrupt\u001b[0m                         Traceback (most recent call last)",
      "\u001b[0;32m<ipython-input-59-8d06a3620ef2>\u001b[0m in \u001b[0;36m<module>\u001b[0;34m()\u001b[0m\n\u001b[1;32m     17\u001b[0m \u001b[0;34m\u001b[0m\u001b[0m\n\u001b[1;32m     18\u001b[0m \u001b[0;34m\u001b[0m\u001b[0m\n\u001b[0;32m---> 19\u001b[0;31m \u001b[0mnearest_mean\u001b[0m\u001b[0;34m(\u001b[0m\u001b[0mX_train\u001b[0m\u001b[0;34m,\u001b[0m \u001b[0mX_test\u001b[0m\u001b[0;34m,\u001b[0m \u001b[0my_train\u001b[0m\u001b[0;34m,\u001b[0m \u001b[0my_test\u001b[0m\u001b[0;34m,\u001b[0m\u001b[0msigma\u001b[0m\u001b[0;34m=\u001b[0m\u001b[0;36m1\u001b[0m\u001b[0;34m)\u001b[0m\u001b[0;34m\u001b[0m\u001b[0m\n\u001b[0m",
      "\u001b[0;32m<ipython-input-59-8d06a3620ef2>\u001b[0m in \u001b[0;36mnearest_mean\u001b[0;34m(X_train, X_test, y_train, y_test, sigma)\u001b[0m\n\u001b[1;32m      5\u001b[0m     \u001b[0;32mfor\u001b[0m \u001b[0mi\u001b[0m \u001b[0;32min\u001b[0m \u001b[0mrange\u001b[0m\u001b[0;34m(\u001b[0m\u001b[0mn_train\u001b[0m\u001b[0;34m)\u001b[0m\u001b[0;34m:\u001b[0m\u001b[0;34m\u001b[0m\u001b[0m\n\u001b[1;32m      6\u001b[0m         \u001b[0;32mfor\u001b[0m \u001b[0mj\u001b[0m \u001b[0;32min\u001b[0m \u001b[0mrange\u001b[0m\u001b[0;34m(\u001b[0m\u001b[0mn_test\u001b[0m\u001b[0;34m)\u001b[0m\u001b[0;34m:\u001b[0m\u001b[0;34m\u001b[0m\u001b[0m\n\u001b[0;32m----> 7\u001b[0;31m             \u001b[0mresult\u001b[0m\u001b[0;34m[\u001b[0m\u001b[0mi\u001b[0m\u001b[0;34m,\u001b[0m\u001b[0mj\u001b[0m\u001b[0;34m]\u001b[0m\u001b[0;34m=\u001b[0m \u001b[0mk_gaussian\u001b[0m\u001b[0;34m(\u001b[0m\u001b[0mX_train\u001b[0m\u001b[0;34m[\u001b[0m\u001b[0mi\u001b[0m\u001b[0;34m]\u001b[0m\u001b[0;34m,\u001b[0m \u001b[0mX_test\u001b[0m\u001b[0;34m[\u001b[0m\u001b[0mj\u001b[0m\u001b[0;34m]\u001b[0m\u001b[0;34m,\u001b[0m \u001b[0msigma\u001b[0m\u001b[0;34m=\u001b[0m\u001b[0msigma\u001b[0m\u001b[0;34m)\u001b[0m\u001b[0;34m\u001b[0m\u001b[0m\n\u001b[0m\u001b[1;32m      8\u001b[0m     \u001b[0mmask1\u001b[0m \u001b[0;34m=\u001b[0m \u001b[0mnp\u001b[0m\u001b[0;34m.\u001b[0m\u001b[0mint\u001b[0m\u001b[0;34m(\u001b[0m\u001b[0my_train\u001b[0m \u001b[0;34m==\u001b[0m \u001b[0;36m1\u001b[0m\u001b[0;34m)\u001b[0m\u001b[0;34m\u001b[0m\u001b[0m\n\u001b[1;32m      9\u001b[0m     \u001b[0mmask2\u001b[0m \u001b[0;34m=\u001b[0m \u001b[0mnp\u001b[0m\u001b[0;34m.\u001b[0m\u001b[0mint\u001b[0m\u001b[0;34m(\u001b[0m\u001b[0my_train\u001b[0m \u001b[0;34m==\u001b[0m \u001b[0;34m-\u001b[0m\u001b[0;36m1\u001b[0m\u001b[0;34m)\u001b[0m\u001b[0;34m\u001b[0m\u001b[0m\n",
      "\u001b[0;32m<ipython-input-58-496b925d53fd>\u001b[0m in \u001b[0;36mk_gaussian\u001b[0;34m(image1, image2, p, sigma)\u001b[0m\n\u001b[1;32m     15\u001b[0m             \u001b[0mnorm2\u001b[0m \u001b[0;34m=\u001b[0m \u001b[0mnp\u001b[0m\u001b[0;34m.\u001b[0m\u001b[0msqrt\u001b[0m\u001b[0;34m(\u001b[0m\u001b[0mnp\u001b[0m\u001b[0;34m.\u001b[0m\u001b[0msum\u001b[0m\u001b[0;34m(\u001b[0m\u001b[0;34m(\u001b[0m\u001b[0mimage2_padded\u001b[0m\u001b[0;34m[\u001b[0m\u001b[0mp\u001b[0m\u001b[0;34m*\u001b[0m\u001b[0mh\u001b[0m\u001b[0;34m:\u001b[0m\u001b[0mp\u001b[0m\u001b[0;34m*\u001b[0m\u001b[0;34m(\u001b[0m\u001b[0mh\u001b[0m\u001b[0;34m+\u001b[0m\u001b[0;36m1\u001b[0m\u001b[0;34m)\u001b[0m\u001b[0;34m,\u001b[0m \u001b[0mp\u001b[0m\u001b[0;34m*\u001b[0m\u001b[0mw\u001b[0m\u001b[0;34m:\u001b[0m\u001b[0mp\u001b[0m\u001b[0;34m*\u001b[0m\u001b[0;34m(\u001b[0m\u001b[0mw\u001b[0m\u001b[0;34m+\u001b[0m\u001b[0;36m1\u001b[0m\u001b[0;34m)\u001b[0m\u001b[0;34m]\u001b[0m\u001b[0;34m)\u001b[0m\u001b[0;34m**\u001b[0m\u001b[0;36m2\u001b[0m\u001b[0;34m)\u001b[0m\u001b[0;34m)\u001b[0m\u001b[0;34m\u001b[0m\u001b[0m\n\u001b[1;32m     16\u001b[0m             dist = np.sum((image1_padded[p*h:p*(h+1), p*w:p*(w+1)]/norm1 - \n\u001b[0;32m---> 17\u001b[0;31m                 image2_padded[p*h:p*(h+1), p*w:p*(w+1)]/norm2)**2)\n\u001b[0m\u001b[1;32m     18\u001b[0m             \u001b[0mresult\u001b[0m\u001b[0;34m[\u001b[0m\u001b[0mh\u001b[0m\u001b[0;34m,\u001b[0m\u001b[0mw\u001b[0m\u001b[0;34m]\u001b[0m \u001b[0;34m=\u001b[0m \u001b[0mnp\u001b[0m\u001b[0;34m.\u001b[0m\u001b[0mexp\u001b[0m\u001b[0;34m(\u001b[0m\u001b[0;34m-\u001b[0m \u001b[0mdist\u001b[0m\u001b[0;34m/\u001b[0m\u001b[0msigma\u001b[0m\u001b[0;34m)\u001b[0m\u001b[0;34m\u001b[0m\u001b[0m\n\u001b[1;32m     19\u001b[0m \u001b[0;31m#     print(result.shape)\u001b[0m\u001b[0;34m\u001b[0m\u001b[0;34m\u001b[0m\u001b[0m\n",
      "\u001b[0;31mKeyboardInterrupt\u001b[0m: "
     ]
    }
   ],
   "source": [
    "def nearest_mean(X_train, X_test, y_train, y_test,sigma):\n",
    "    n_train, n_test = len(X_train),len(X_test)\n",
    "    result = np.zeros((n_train, n_test))\n",
    "    for i in range(n_train):\n",
    "        for j in range(n_test):\n",
    "            result[i,j]= k_gaussian(X_train[i], X_test[j], sigma=sigma)\n",
    "    mask1 = np.int(y_train == 1)\n",
    "    mask2 = np.int(y_train == -1)\n",
    "    value_1 = np.dot(result.T, mask1[:, np.newaxis])/np.sum(mask1)\n",
    "    value_2 = np.dot(result.T, mask2[:, np.newaxis])/np.sum(mask2)\n",
    "    \n",
    "    value = np.concatenate((value_1,value_2),axis=1)\n",
    "    prediction = np.where(np.argmax(value, axis=1),1,-1)\n",
    "    error_rate =np.mean(prediction == y_test)\n",
    "    return error_rate\n",
    "\n",
    "\n",
    "parameter_list1 = [0.001,0.01,0.1,1,10,100]\n",
    "for sigma in parameter_list1:\n",
    "    guassian_result.append(NEAREST_MEAN(spam_X, spam_y,kernel='gaussian', parameter = sigma))\n",
    "\n",
    "nearest_mean(X_train, X_test, y_train, y_test,sigma=1)"
   ]
  },
  {
   "cell_type": "code",
   "execution_count": null,
   "metadata": {
    "collapsed": true
   },
   "outputs": [],
   "source": [
    "fig1.spines['right'].set_visible(False)\n",
    "fig1.spines['top'].set_visible(False)\n",
    "fig1.plot(parameter_list1,guassian_result,color='red')\n",
    "fig1.set(title= 'Error rate for gaussian kernel',ylabel='Error(%)',xlabel='sigma',ylim=(0,0.4))\n",
    "fig1.set_xscale('log')"
   ]
  },
  {
   "cell_type": "markdown",
   "metadata": {},
   "source": [
    "# Exercise 2"
   ]
  },
  {
   "cell_type": "code",
   "execution_count": 49,
   "metadata": {
    "collapsed": false
   },
   "outputs": [
    {
     "data": {
      "text/plain": [
       "array([[ 1,  9],\n",
       "       [ 4, 16]])"
      ]
     },
     "execution_count": 49,
     "metadata": {},
     "output_type": "execute_result"
    }
   ],
   "source": [
    "# mask = np.isin(lfw.target_names, ['George W Bush', 'Tony Blair'])\n",
    "# mask\n",
    "# np.unique(lfw.target)\n",
    "# np.unique(lfw.target_names)\n",
    "# len(mask)\n",
    "# X.shape\n",
    "# for i in range(int(48/3)):\n",
    "#     print(i)\n",
    "\n",
    "(np.array([[1,3],[2,4]]))**2"
   ]
  }
 ],
 "metadata": {
  "kernelspec": {
   "display_name": "Python 3",
   "language": "python",
   "name": "python3"
  },
  "language_info": {
   "codemirror_mode": {
    "name": "ipython",
    "version": 3
   },
   "file_extension": ".py",
   "mimetype": "text/x-python",
   "name": "python",
   "nbconvert_exporter": "python",
   "pygments_lexer": "ipython3",
   "version": "3.5.0"
  },
  "widgets": {
   "state": {},
   "version": "1.1.2"
  }
 },
 "nbformat": 4,
 "nbformat_minor": 0
}
