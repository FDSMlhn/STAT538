{
 "cells": [
  {
   "cell_type": "code",
   "execution_count": 2,
   "metadata": {
    "collapsed": true
   },
   "outputs": [],
   "source": [
    "import pandas as pd\n",
    "import numpy as np\n",
    "import matplotlib.pyplot as plt\n",
    "from matplotlib import gridspec\n",
    "\n",
    "%matplotlib inline\n",
    "plt.rcParams['figure.figsize'] = (8.0, 6.0) # set default size of plots\n",
    "plt.rcParams['image.interpolation'] = 'nearest'\n",
    "plt.rcParams['image.cmap'] = 'gray'\n",
    "\n",
    "%load_ext autoreload\n",
    "%autoreload 2"
   ]
  },
  {
   "cell_type": "markdown",
   "metadata": {},
   "source": [
    "Exercise 1\n",
    "\n",
    "I will choose face from George W Bush, Gerhard Schroeder and Tony Blair. These are the three classes. Their target value will be 1,2,3 respectively. I will use 20 percents of the data as test dataset."
   ]
  },
  {
   "cell_type": "code",
   "execution_count": 28,
   "metadata": {
    "collapsed": false
   },
   "outputs": [],
   "source": [
    "from sklearn.datasets import fetch_lfw_people\n",
    "from sklearn.model_selection import train_test_split\n",
    "\n",
    "P = 7\n",
    "lfw = fetch_lfw_people(min_faces_per_person=70)\n",
    "mask = np.isin(lfw.target, [3, 4, 6])\n",
    "X= lfw.images[mask]\n",
    "y= lfw.target[mask]\n",
    "y[y==3] = 0\n",
    "y[y==4] = 1\n",
    "y[y==6] = 2\n",
    "\n",
    "\n",
    "HEIGHT = 62\n",
    "WIDTH  = 47\n",
    "\n",
    "X_stretch = []\n",
    "LOC_list = []\n",
    "for num,i in enumerate(X):\n",
    "    H_pad = P - HEIGHT % P\n",
    "    W_pad = P - WIDTH % P\n",
    "    image1_padded = np.pad(i,((0,H_pad),(0, W_pad)),mode='constant')\n",
    "    H_af, W_af = image1_padded.shape\n",
    "    row = None\n",
    "    for h in range(int(H_af/P)):\n",
    "        for w in range(int(W_af/P)):\n",
    "            if row is None:\n",
    "                row = image1_padded[P*h:P*(h+1), P*w:P*(w+1)].reshape(1,-1)\n",
    "            else:\n",
    "                row = np.concatenate((row, image1_padded[P*h:P*(h+1), P*w:P*(w+1)].reshape(1,-1)))\n",
    "            if num == 0:\n",
    "                LOC_list.append(np.array([P*h+P//2,P*w +P//2]))\n",
    "            \n",
    "    X_stretch.append(row)\n",
    "\n",
    "X_stretch = np.stack(X_stretch)\n",
    "\n",
    "X_train, X_test, y_train, y_test = train_test_split(\n",
    "    X_stretch, y, test_size=0.2, random_state=1209)"
   ]
  },
  {
   "cell_type": "code",
   "execution_count": 27,
   "metadata": {
    "collapsed": false
   },
   "outputs": [
    {
     "data": {
      "text/plain": [
       "63"
      ]
     },
     "execution_count": 27,
     "metadata": {},
     "output_type": "execute_result"
    }
   ],
   "source": [
    "# X_r = np.stack(X_stretch)\n",
    "# X_r.shape\n",
    "len(LOC_list)"
   ]
  },
  {
   "cell_type": "markdown",
   "metadata": {},
   "source": [
    "This function keeps track of the location $z_i$ of the patches and represents it as two-dim location, (x, y). Then we can compute the loss of it. And p I choose is 7, to decrease the computation time."
   ]
  },
  {
   "cell_type": "code",
   "execution_count": 29,
   "metadata": {
    "collapsed": false
   },
   "outputs": [
    {
     "data": {
      "text/plain": [
       "56.554456779986452"
      ]
     },
     "execution_count": 29,
     "metadata": {},
     "output_type": "execute_result"
    }
   ],
   "source": [
    "def k_gaussian(image1, image2, sigma= 1, sigma2= 1):\n",
    "    H_af, W_af = image1_padded.shape\n",
    "    result = []\n",
    "    \n",
    "    image_len = image1.shape[0]\n",
    "    for h in range(image_len):\n",
    "        for w in range(h, image_len):\n",
    "            loc1 = LOC_list[h]\n",
    "            loc2 = LOC_list[w]\n",
    "            norm1 = np.sqrt(np.sum((image1[h])**2))\n",
    "            norm2 = np.sqrt(np.sum((image2[w])**2))\n",
    "            dist = np.sum((image1[h]/norm1 - image2[w]/norm2)**2)\n",
    "            if h == w:\n",
    "                result.append(np.exp(- dist/sigma) * np.exp(-np.linalg.norm(loc1-loc2)**2/sigma2) )\n",
    "            if w > h:\n",
    "                result.append(2* np.exp(- dist/sigma) * np.exp(-np.linalg.norm(loc1-loc2)**2/sigma2))\n",
    "    return np.sum(result)\n",
    "\n",
    "#try to compute between the first and second in train_data\n",
    "k_gaussian(X_train[0],X_train[1])"
   ]
  },
  {
   "cell_type": "code",
   "execution_count": null,
   "metadata": {
    "collapsed": true
   },
   "outputs": [],
   "source": [
    "def nearest_mean(X_train, X_test, y_train, y_test,sigma, sigma2):\n",
    "    n_train, n_test = len(X_train),len(X_test)\n",
    "    result = np.zeros((n_train, n_test))\n",
    "    for i in range(n_train):\n",
    "        for j in range(n_test):\n",
    "            result[i,j]= k_gaussian(X_train[i], X_test[j], sigma=sigma, sigma2 = sigma2)\n",
    "    mask1 = (y_train == 0).astype(np.int)\n",
    "    mask2 = (y_train == 1).astype(np.int)\n",
    "    mask3 = (y_train == 2).astype(np.int)\n",
    "    value_1 = np.dot(result.T, mask1[:, np.newaxis])/np.sum(mask1)\n",
    "    value_2 = np.dot(result.T, mask2[:, np.newaxis])/np.sum(mask2)\n",
    "    value_3 = np.dot(result.T, mask3[:, np.newaxis])/np.sum(mask3)\n",
    "    \n",
    "    value = np.concatenate((value_1,value_2,value3),axis=1)\n",
    "    prediction = np.argmax(value, axis=1)\n",
    "    error_rate =np.mean(prediction == y_test)\n",
    "    return error_rate\n",
    "\n",
    "\n",
    "guassian_result = []\n",
    "dist_result = []\n",
    "parameter_list1 = [0.001,0.01,0.1,1,10,100]\n",
    "parameter_list2 = [0.01, 1, 10]\n",
    "for sigma2 in parameter_list2:\n",
    "    for sigma in parameter_list1:\n",
    "        error_rate = nearest_mean(X_train, X_test, y_train, y_test,sigma=sigma, sigma2=sigma2)\n",
    "        guassian_result.append(error_rate)\n",
    "        print('Finish one round!')"
   ]
  }
 ],
 "metadata": {
  "kernelspec": {
   "display_name": "Python 3",
   "language": "python",
   "name": "python3"
  },
  "language_info": {
   "codemirror_mode": {
    "name": "ipython",
    "version": 3
   },
   "file_extension": ".py",
   "mimetype": "text/x-python",
   "name": "python",
   "nbconvert_exporter": "python",
   "pygments_lexer": "ipython3",
   "version": "3.5.0"
  },
  "widgets": {
   "state": {},
   "version": "1.1.2"
  }
 },
 "nbformat": 4,
 "nbformat_minor": 0
}
