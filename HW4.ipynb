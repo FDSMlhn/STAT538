{
 "cells": [
  {
   "cell_type": "code",
   "execution_count": 1,
   "metadata": {},
   "outputs": [],
   "source": [
    "import pandas as pd\n",
    "import numpy as np\n",
    "import matplotlib.pyplot as plt\n",
    "from matplotlib import gridspec\n",
    "\n",
    "%matplotlib inline\n",
    "plt.rcParams['figure.figsize'] = (8.0, 6.0) # set default size of plots\n",
    "plt.rcParams['image.interpolation'] = 'nearest'\n",
    "plt.rcParams['image.cmap'] = 'gray'\n",
    "\n",
    "%load_ext autoreload\n",
    "%autoreload 2"
   ]
  },
  {
   "cell_type": "markdown",
   "metadata": {},
   "source": [
    "# Exercise 1\n",
    "\n",
    "I will choose face from George W Bush, Gerhard Schroeder and Tony Blair. These are the three classes. Their target value will be 1,2,3 respectively. I will use 20 percents of the data as test dataset."
   ]
  },
  {
   "cell_type": "code",
   "execution_count": 2,
   "metadata": {},
   "outputs": [],
   "source": [
    "from sklearn.datasets import fetch_lfw_people\n",
    "from sklearn.model_selection import train_test_split\n",
    "\n",
    "P = 7\n",
    "lfw = fetch_lfw_people(min_faces_per_person=70)\n",
    "mask = np.isin(lfw.target, [3, 4, 6])\n",
    "X= lfw.images[mask]\n",
    "y= lfw.target[mask]\n",
    "y[y==3] = 0\n",
    "y[y==4] = 1\n",
    "y[y==6] = 2\n",
    "\n",
    "\n",
    "HEIGHT = 62\n",
    "WIDTH  = 47\n",
    "\n",
    "X_stretch = []\n",
    "LOC_list = []\n",
    "for num,i in enumerate(X):\n",
    "    H_pad = P - HEIGHT % P\n",
    "    W_pad = P - WIDTH % P\n",
    "    image1_padded = np.pad(i,((0,H_pad),(0, W_pad)),mode='constant')\n",
    "    H_af, W_af = image1_padded.shape\n",
    "    row = None\n",
    "    for h in range(int(H_af/P)):\n",
    "        for w in range(int(W_af/P)):\n",
    "            if row is None:\n",
    "                row = image1_padded[P*h:P*(h+1), P*w:P*(w+1)].reshape(1,-1)\n",
    "            else:\n",
    "                row = np.concatenate((row, image1_padded[P*h:P*(h+1), P*w:P*(w+1)].reshape(1,-1)))\n",
    "            if num == 0:\n",
    "                LOC_list.append(np.array([P*h+P//2,P*w +P//2]))\n",
    "            \n",
    "    X_stretch.append(row)\n",
    "\n",
    "X_stretch = np.stack(X_stretch)\n",
    "\n",
    "X_train, X_test, y_train, y_test = train_test_split(\n",
    "    X_stretch, y, test_size=0.2, random_state=1209)"
   ]
  },
  {
   "cell_type": "markdown",
   "metadata": {},
   "source": [
    "This function keeps track of the location $z_i$ of the patches and represents it as two-dim location, (x, y). Then we can compute the loss of it. And p I choose is 13, to decrease the computation time."
   ]
  },
  {
   "cell_type": "code",
   "execution_count": 3,
   "metadata": {},
   "outputs": [
    {
     "name": "stdout",
     "output_type": "stream",
     "text": [
      "0:00:00.089237\n"
     ]
    }
   ],
   "source": [
    "def k_gaussian(image1, image2, sigma= 1, sigma2= 1):\n",
    "    H_af, W_af = image1_padded.shape\n",
    "    result = []\n",
    "    \n",
    "    image_len = image1.shape[0]\n",
    "    for h in range(image_len):\n",
    "        for w in range(h, image_len):\n",
    "            loc1 = LOC_list[h]\n",
    "            loc2 = LOC_list[w]\n",
    "            norm1 = np.sqrt(np.sum((image1[h])**2))\n",
    "            norm2 = np.sqrt(np.sum((image2[w])**2))\n",
    "            dist = np.sum((image1[h]/norm1 - image2[w]/norm2)**2)\n",
    "            if h == w:\n",
    "                result.append(np.exp(- dist/sigma) * np.exp(-np.linalg.norm(loc1-loc2)**2/sigma2) )\n",
    "            if w > h:\n",
    "                result.append(2* np.exp(- dist/sigma) * np.exp(-np.linalg.norm(loc1-loc2)**2/sigma2))\n",
    "    return np.sum(result)\n",
    "\n",
    "#try to compute between the first and second in train_data\n",
    "\n",
    "from datetime import datetime\n",
    "\n",
    "a = datetime.now()\n",
    "k_gaussian(X_train[0],X_train[1])\n",
    "b = datetime.now()\n",
    "print(b-a)"
   ]
  },
  {
   "cell_type": "code",
   "execution_count": null,
   "metadata": {},
   "outputs": [],
   "source": [
    "def nearest_mean(X_train, X_test, y_train, y_test,sigma, sigma2):\n",
    "    n_train, n_test = len(X_train),len(X_test)\n",
    "    result = np.zeros((n_train, n_test))\n",
    "    for i in range(n_train):\n",
    "        for j in range(n_test):\n",
    "            result[i,j]= k_gaussian(X_train[i], X_test[j], sigma=sigma, sigma2 = sigma2)\n",
    "    mask1 = (y_train == 0).astype(np.int)\n",
    "    mask2 = (y_train == 1).astype(np.int)\n",
    "    mask3 = (y_train == 2).astype(np.int)\n",
    "    value_1 = np.dot(result.T, mask1[:, np.newaxis])/np.sum(mask1)\n",
    "    value_2 = np.dot(result.T, mask2[:, np.newaxis])/np.sum(mask2)\n",
    "    value_3 = np.dot(result.T, mask3[:, np.newaxis])/np.sum(mask3)\n",
    "    \n",
    "    value = np.concatenate((value_1,value_2,value_3),axis=1)\n",
    "    prediction = np.argmax(value, axis=1)\n",
    "    error_rate =np.mean(prediction == y_test)\n",
    "    return error_rate\n",
    "\n",
    "\n",
    "guassian_result = []\n",
    "dist_result = []\n",
    "parameter_list1 = [0.001,0.01, 0.1,1,10, 100]\n",
    "parameter_list2 = [0.01, 1, 100]\n",
    "for sigma2 in parameter_list2:\n",
    "    for sigma in parameter_list1:\n",
    "        error_rate = nearest_mean(X_train, X_test, y_train, y_test,sigma=sigma, sigma2=sigma2)\n",
    "        guassian_result.append(error_rate)\n",
    "        print('Finish one round!')"
   ]
  },
  {
   "cell_type": "code",
   "execution_count": 25,
   "metadata": {},
   "outputs": [
    {
     "data": {
      "image/png": "[encoded data removed]",
      "text/plain": [
       "<matplotlib.figure.Figure at 0x7f66f2c0e668>"
      ]
     },
     "metadata": {},
     "output_type": "display_data"
    }
   ],
   "source": [
    "colors = ['red','blue','green']\n",
    "fig1 = plt.subplot()\n",
    "fig1.spines['right'].set_visible(False)\n",
    "fig1.spines['top'].set_visible(False)\n",
    "\n",
    "for i in range(3):\n",
    "    fig1.plot(parameter_list1,guassian_result[6*i:6*(i+1)],color=colors[i], label=str(parameter_list2[i]))\n",
    "\n",
    "fig1.set(title= 'Error rate for gaussian kernel',ylabel='Error(%)',xlabel='sigma',ylim=(0,0.9))\n",
    "fig1.set_xscale('log')\n"
   ]
  },
  {
   "cell_type": "markdown",
   "metadata": {},
   "source": [
    "The Result is as above, the three lines is overlapping. The weird thing is that although I've changed $\\sigma_l$ from 0.01 to 1 to 100, The error rate only changes with the change of $\\sigma_p$, which indicates the second term is dominating in this kernel function. "
   ]
  },
  {
   "cell_type": "markdown",
   "metadata": {},
   "source": [
    "# Exercise 2\n",
    "\n",
    "## Question 1:"
   ]
  },
  {
   "cell_type": "code",
   "execution_count": 6,
   "metadata": {},
   "outputs": [],
   "source": [
    "value1 = np.random.randn(50,10) + np.array(range(10))[np.newaxis,:]\n",
    "value2 = np.random.randn(50,10) + np.array(range(10,20))[np.newaxis,:]\n",
    "X = np.concatenate((value1,value2), axis=0)\n",
    "\n",
    "y = np.repeat((1,2),50)"
   ]
  },
  {
   "cell_type": "markdown",
   "metadata": {},
   "source": [
    "## Question 2:\n",
    "\n",
    "I use KPCA function in this question already."
   ]
  },
  {
   "cell_type": "code",
   "execution_count": 8,
   "metadata": {},
   "outputs": [],
   "source": [
    "def power_iter(X, iteration=500):\n",
    "    C = np.dot(np.dot(X.T, np.identity(len(X)) - 1/len(X) * np.ones((len(X),len(X)))), X)/(len(X)-1)\n",
    "\n",
    "    v = np.random.randn(len(C))[:,np.newaxis]\n",
    "    \n",
    "    for i in range(iteration):\n",
    "        temp_v = np.dot(C, v)\n",
    "        v = temp_v / np.linalg.norm(temp_v)\n",
    "        lam = np.dot(np.dot(v.T, C), v)\n",
    "    return v, lam\n",
    "      \n",
    "eigen_vector, eigen_value = power_iter(X)"
   ]
  },
  {
   "cell_type": "code",
   "execution_count": 10,
   "metadata": {},
   "outputs": [],
   "source": [
    "def MY_KPCA(X, kernel, n_components=2,iteration = 500, **kwargs):\n",
    "    N = len(X)\n",
    "    GRAM = np.zeros((N,N))\n",
    "    for i in range(N):\n",
    "        for j in range(N):\n",
    "            GRAM[i,j] = kernel(X[i],X[j], **kwargs)\n",
    "    \n",
    "    norm_matrix = np.identity(N) - 1/len(X) * np.ones((len(X),len(X)))\n",
    "    C = np.dot(norm_matrix, np.dot(GRAM, norm_matrix))/(len(X)-1)\n",
    "    C_copy = C.copy()\n",
    "    \n",
    "    eigen_vectors = []\n",
    "    eigen_values = []\n",
    "    for i in range(n_components):\n",
    "        v = np.random.randn(len(C))[:,np.newaxis]\n",
    "        for i in range(iteration):\n",
    "            temp_v = np.dot(C, v)\n",
    "            v = temp_v / np.linalg.norm(temp_v)\n",
    "            lam = np.dot(np.dot(v.T, C), v)\n",
    "        eigen_vectors.append(v)\n",
    "        eigen_values.append(lam)\n",
    "        if i!=n_components-1:\n",
    "            C -= eigen_value* v * v.T\n",
    "    return C_copy, eigen_vectors, eigen_values\n",
    "\n",
    "def poly_RBF(x1,x2,p=2):\n",
    "    return (np.dot(x1,x2)+1)**p\n",
    "    \n",
    "    \n",
    "C_copy, eigen_vectors, eigen_values = MY_KPCA(X,kernel = poly_RBF, n_components=1)\n",
    "\n",
    "#When compute the principle component, we need to center the data.\n",
    "\n",
    "alpha = 1/np.sqrt(eigen_values[0]) * eigen_vectors[0]\n",
    "\n",
    "FC1 = np.dot(C_copy, alpha)"
   ]
  },
  {
   "cell_type": "markdown",
   "metadata": {},
   "source": [
    "One important note is that we need to compute the principle component with the normalised gram matrix K: $\\tilde{K}$."
   ]
  },
  {
   "cell_type": "markdown",
   "metadata": {},
   "source": [
    "## Question 3:\n",
    "\n",
    "The answer is basically the same as answer of question2, I just set n_components to 2."
   ]
  },
  {
   "cell_type": "code",
   "execution_count": 12,
   "metadata": {},
   "outputs": [],
   "source": [
    "C_copy, eigen_vectors, eigen_values = MY_KPCA(X,kernel = poly_RBF, n_components=2)\n",
    "\n",
    "#When compute the principle component, we need to center the data.\n",
    "\n",
    "alpha1 = 1/np.sqrt(eigen_values[0]) * eigen_vectors[0]\n",
    "alpha2 = 1/np.sqrt(eigen_values[1]) * eigen_vectors[1]\n",
    "\n",
    "\n",
    "FC1 = np.dot(C_copy, alpha1[:])\n",
    "FC2 = np.dot(C_copy, alpha2[:])"
   ]
  },
  {
   "cell_type": "markdown",
   "metadata": {},
   "source": [
    "# Question 4:"
   ]
  },
  {
   "cell_type": "code",
   "execution_count": 17,
   "metadata": {},
   "outputs": [
    {
     "data": {
      "text/plain": [
       "[Text(0,0.5,'v2'), Text(0.5,0,'v1'), Text(0.5,1,'KPCA')]"
      ]
     },
     "execution_count": 17,
     "metadata": {},
     "output_type": "execute_result"
    },
    {
     "data": {
      "image/png": "[encoded data removed]",
      "text/plain": [
       "<matplotlib.figure.Figure at 0x7f97756ad048>"
      ]
     },
     "metadata": {},
     "output_type": "display_data"
    }
   ],
   "source": [
    "fig1 = plt.subplot()\n",
    "fig1.spines['right'].set_visible(False)\n",
    "fig1.spines['top'].set_visible(False)\n",
    "colors =['r','g']\n",
    "labels = ['A','B']\n",
    "\n",
    "for i in range(2):\n",
    "    fig1.plot(FC1[i*50:50*(i+1)],FC2[i*50:50*(i+1)],\n",
    "             'o',color=colors[i],label= labels[i])\n",
    "fig1.set(title= 'KPCA',ylabel='v2',xlabel='v1')"
   ]
  },
  {
   "cell_type": "markdown",
   "metadata": {},
   "source": [
    "And I also tried p = 3 or 4, the result is as following:"
   ]
  },
  {
   "cell_type": "code",
   "execution_count": 20,
   "metadata": {},
   "outputs": [
    {
     "data": {
      "text/plain": [
       "[Text(0,0.5,'v2'), Text(0.5,0,'v1'), Text(0.5,1,'KPCA with p = 3')]"
      ]
     },
     "execution_count": 20,
     "metadata": {},
     "output_type": "execute_result"
    },
    {
     "data": {
      "image/png": "[encoded data removed]",
      "text/plain": [
       "<matplotlib.figure.Figure at 0x7f9734ee3d68>"
      ]
     },
     "metadata": {},
     "output_type": "display_data"
    }
   ],
   "source": [
    "C_copy, eigen_vectors, eigen_values = MY_KPCA(X,kernel = poly_RBF, n_components=2, p =3)\n",
    "\n",
    "#When compute the principle component, we need to center the data.\n",
    "\n",
    "alpha1 = 1/np.sqrt(eigen_values[0]) * eigen_vectors[0]\n",
    "alpha2 = 1/np.sqrt(eigen_values[1]) * eigen_vectors[1]\n",
    "\n",
    "\n",
    "FC1 = np.dot(C_copy, alpha1[:])\n",
    "FC2 = np.dot(C_copy, alpha2[:])\n",
    "fig1 = plt.subplot()\n",
    "fig1.spines['right'].set_visible(False)\n",
    "fig1.spines['top'].set_visible(False)\n",
    "colors =['r','g']\n",
    "labels = ['A','B']\n",
    "\n",
    "for i in range(2):\n",
    "    fig1.plot(FC1[i*50:50*(i+1)],FC2[i*50:50*(i+1)],\n",
    "             'o',color=colors[i],label= labels[i])\n",
    "fig1.set(title= 'KPCA with p = 3',ylabel='v2',xlabel='v1')"
   ]
  },
  {
   "cell_type": "code",
   "execution_count": 24,
   "metadata": {},
   "outputs": [
    {
     "data": {
      "text/plain": [
       "[Text(0,0.5,'v2'), Text(0.5,0,'v1'), Text(0.5,1,'KPCA with p = 4')]"
      ]
     },
     "execution_count": 24,
     "metadata": {},
     "output_type": "execute_result"
    },
    {
     "data": {
      "image/png": "[encoded data removed]",
      "text/plain": [
       "<matplotlib.figure.Figure at 0x7f9734e1d518>"
      ]
     },
     "metadata": {},
     "output_type": "display_data"
    }
   ],
   "source": [
    "C_copy, eigen_vectors, eigen_values = MY_KPCA(X,kernel = poly_RBF, n_components=2, p =4)\n",
    "\n",
    "#When compute the principle component, we need to center the data.\n",
    "\n",
    "alpha1 = 1/np.sqrt(eigen_values[0]) * eigen_vectors[0]\n",
    "alpha2 = 1/np.sqrt(eigen_values[1]) * eigen_vectors[1]\n",
    "\n",
    "\n",
    "FC1 = np.dot(C_copy, alpha1[:])\n",
    "FC2 = np.dot(C_copy, alpha2[:])\n",
    "fig1 = plt.subplot()\n",
    "fig1.spines['right'].set_visible(False)\n",
    "fig1.spines['top'].set_visible(False)\n",
    "colors =['r','g']\n",
    "labels = ['A','B']\n",
    "\n",
    "for i in range(2):\n",
    "    fig1.plot(FC1[i*50:50*(i+1)],FC2[i*50:50*(i+1)],\n",
    "             'o',color=colors[i],label= labels[i])\n",
    "fig1.set(title= 'KPCA with p = 4',ylabel='v2',xlabel='v1')"
   ]
  },
  {
   "cell_type": "markdown",
   "metadata": {},
   "source": [
    "When using polynomial with higher order, we can see that the seperation of data point don't change too much. But the absolute value of principal component does change a lot. With the increasing of p, the PC also increase like exponentially. "
   ]
  }
 ],
 "metadata": {
  "kernelspec": {
   "display_name": "Python 3",
   "language": "python",
   "name": "python3"
  },
  "language_info": {
   "codemirror_mode": {
    "name": "ipython",
    "version": 3
   },
   "file_extension": ".py",
   "mimetype": "text/x-python",
   "name": "python",
   "nbconvert_exporter": "python",
   "pygments_lexer": "ipython3",
   "version": "3.5.2"
  },
  "widgets": {
   "state": {},
   "version": "1.1.2"
  }
 },
 "nbformat": 4,
 "nbformat_minor": 1
}
